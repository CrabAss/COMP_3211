{
 "cells": [
  {
   "cell_type": "markdown",
   "metadata": {
    "pycharm": {
     "metadata": false
    }
   },
   "source": [
    "### import torch , bumpy and matplot "
   ]
  },
  {
   "cell_type": "code",
   "execution_count": 1,
   "metadata": {
    "pycharm": {
     "metadata": false,
     "name": "#%%\n"
    }
   },
   "outputs": [],
   "source": [
    "import torch\n",
    "from torch.autograd import Variable\n",
    "import torch.nn as nn\n",
    "import torch.nn.functional as F\n",
    "import numpy as np\n",
    "from sklearn.model_selection import train_test_split\n",
    "import matplotlib.pyplot as plt"
   ]
  },
  {
   "cell_type": "markdown",
   "metadata": {
    "pycharm": {
     "metadata": false,
     "name": "#%% md\n"
    }
   },
   "source": [
    "### check gpu"
   ]
  },
  {
   "cell_type": "code",
   "execution_count": 2,
   "metadata": {
    "pycharm": {
     "metadata": false,
     "name": "#%%\n"
    }
   },
   "outputs": [],
   "source": [
    "device = torch.device('cuda' if torch.cuda.is_available() else 'cpu')"
   ]
  },
  {
   "cell_type": "markdown",
   "metadata": {
    "pycharm": {
     "is_executing": false,
     "metadata": false,
     "name": "#%% md\n"
    }
   },
   "source": [
    "### import data"
   ]
  },
  {
   "cell_type": "code",
   "execution_count": 3,
   "metadata": {
    "pycharm": {
     "is_executing": false,
     "metadata": false,
     "name": "#%%\n"
    }
   },
   "outputs": [],
   "source": [
    "temp_x = np.loadtxt(\"./qsort_qsort.py.csv\",dtype=np.float32, delimiter=\",\")\n",
    "temp_y = np.loadtxt(\"qsort_result.txt\",dtype=np.float32, delimiter=\",\")\n"
   ]
  },
  {
   "cell_type": "markdown",
   "metadata": {
    "pycharm": {
     "metadata": false
    }
   },
   "source": [
    "### process data \n",
    "[>0 => 1, 0 => 0]  \n"
   ]
  },
  {
   "cell_type": "code",
   "execution_count": 4,
   "metadata": {
    "pycharm": {
     "metadata": false,
     "name": "#%%\n"
    }
   },
   "outputs": [],
   "source": [
    "x_train = np.float32(temp_x>0)\n",
    "y_train = temp_y     "
   ]
  },
  {
   "cell_type": "markdown",
   "metadata": {
    "pycharm": {
     "metadata": false
    }
   },
   "source": [
    "### set size and batch"
   ]
  },
  {
   "cell_type": "code",
   "execution_count": 5,
   "metadata": {
    "pycharm": {
     "metadata": false,
     "name": "#%%\n"
    }
   },
   "outputs": [],
   "source": [
    "n_in, n_h, n_out, batch_size = len(x_train[0]), 3, 1, len(x_train)\n",
    "\n",
    "x_train = torch.tensor(x_train)\n",
    "y_train = torch.tensor(y_train.T)\n"
   ]
  },
  {
   "cell_type": "markdown",
   "metadata": {
    "pycharm": {
     "is_executing": false,
     "metadata": false,
     "name": "#%% md\n"
    }
   },
   "source": [
    "### design model,loss function and optimizer"
   ]
  },
  {
   "cell_type": "code",
   "execution_count": 6,
   "metadata": {
    "pycharm": {
     "is_executing": false,
     "metadata": false,
     "name": "#%%\n"
    }
   },
   "outputs": [
    {
     "name": "stdout",
     "output_type": "stream",
     "text": [
      "Sequential(\n",
      "  (0): Linear(in_features=35, out_features=3, bias=True)\n",
      "  (1): Sigmoid()\n",
      "  (2): Linear(in_features=3, out_features=1, bias=True)\n",
      "  (3): Sigmoid()\n",
      ")\n",
      "MSELoss()\n",
      "SGD (\n",
      "Parameter Group 0\n",
      "    dampening: 0\n",
      "    lr: 0.01\n",
      "    momentum: 0\n",
      "    nesterov: False\n",
      "    weight_decay: 1e-06\n",
      ")\n"
     ]
    }
   ],
   "source": [
    "model = nn.Sequential(nn.Linear(n_in,n_h),\n",
    "                          nn.Sigmoid(),\n",
    "                          nn.Linear(n_h,n_out),\n",
    "                          nn.Sigmoid())\n",
    "# loss\n",
    "criterion = torch.nn.MSELoss()\n",
    "# optimizer\n",
    "optimizer = torch.optim.SGD(model.parameters(), lr=0.01,weight_decay = 1e-6)\n",
    "print(model)\n",
    "print(criterion)\n",
    "print(optimizer)"
   ]
  },
  {
   "cell_type": "markdown",
   "metadata": {
    "pycharm": {
     "metadata": false
    }
   },
   "source": [
    "### save loss for draw plot\n"
   ]
  },
  {
   "cell_type": "code",
   "execution_count": 7,
   "metadata": {
    "pycharm": {
     "is_executing": false,
     "metadata": false,
     "name": "#%%\n"
    }
   },
   "outputs": [],
   "source": [
    "loss_list =[]"
   ]
  },
  {
   "cell_type": "markdown",
   "metadata": {
    "pycharm": {
     "metadata": false,
     "name": "#%% md\n"
    }
   },
   "source": [
    "### train\n",
    "\n"
   ]
  },
  {
   "cell_type": "code",
   "execution_count": 8,
   "metadata": {
    "pycharm": {
     "is_executing": false,
     "metadata": false,
     "name": "#%%\n"
    }
   },
   "outputs": [
    {
     "name": "stdout",
     "output_type": "stream",
     "text": [
      "i:  0  loss:  0.248914897441864\n",
      "i:  100  loss:  0.2386365383863449\n",
      "i:  200  loss:  0.23199811577796936\n",
      "i:  300  loss:  0.22760483622550964\n",
      "i:  400  loss:  0.22463783621788025\n",
      "i:  500  loss:  0.22260047495365143\n",
      "i:  600  loss:  0.22118227183818817\n",
      "i:  700  loss:  0.2201838493347168\n",
      "i:  800  loss:  0.21947434544563293\n",
      "i:  900  loss:  0.21896618604660034\n",
      "i:  1000  loss:  0.2185998409986496\n",
      "i:  1100  loss:  0.21833422780036926\n",
      "i:  1200  loss:  0.21814076602458954\n",
      "i:  1300  loss:  0.21799926459789276\n",
      "i:  1400  loss:  0.21789541840553284\n",
      "i:  1500  loss:  0.2178189903497696\n",
      "i:  1600  loss:  0.21776258945465088\n",
      "i:  1700  loss:  0.2177208811044693\n",
      "i:  1800  loss:  0.21768997609615326\n",
      "i:  1900  loss:  0.21766704320907593\n",
      "i:  2000  loss:  0.21764999628067017\n",
      "i:  2100  loss:  0.2176373153924942\n",
      "i:  2200  loss:  0.2176278680562973\n",
      "i:  2300  loss:  0.2176208347082138\n",
      "i:  2400  loss:  0.21761557459831238\n",
      "i:  2500  loss:  0.2176116555929184\n",
      "i:  2600  loss:  0.2176087349653244\n",
      "i:  2700  loss:  0.2176065444946289\n",
      "i:  2800  loss:  0.21760490536689758\n",
      "i:  2900  loss:  0.2176036834716797\n"
     ]
    }
   ],
   "source": [
    "for i in range(3000):\n",
    "    # forward prapagation\n",
    "    model.train()\n",
    "    y_pred = model(x_train)\n",
    "\n",
    "    # loss\n",
    "    loss = criterion(y_pred,y_train)\n",
    "    loss_list.append(float(loss))\n",
    "\n",
    "    #print(model.named_parameters())\n",
    "\n",
    "    optimizer.zero_grad()\n",
    "    loss.backward()\n",
    "    optimizer.step()\n",
    "\n",
    "    if i % 100 == 0:\n",
    "        print('i: ', i, ' loss: ', loss.item())"
   ]
  },
  {
   "cell_type": "markdown",
   "metadata": {
    "pycharm": {
     "metadata": false
    }
   },
   "source": [
    "### print loss result\n"
   ]
  },
  {
   "cell_type": "code",
   "execution_count": 9,
   "metadata": {
    "pycharm": {
     "is_executing": false,
     "metadata": false,
     "name": "#%%\n"
    }
   },
   "outputs": [
    {
     "data": {
      "image/png": "[encoded data removed]",
      "text/plain": [
       "<Figure size 432x288 with 1 Axes>"
      ]
     },
     "metadata": {
      "needs_background": "light"
     },
     "output_type": "display_data"
    }
   ],
   "source": [
    "fig = plt.figure()\n",
    "ax1 = fig.add_subplot(111)\n",
    "plt.xlabel('step')\n",
    "plt.ylabel('loss')\n",
    "plt.plot([i for i in range(3000)], loss_list, c='r')\n",
    "plt.show()"
   ]
  },
  {
   "cell_type": "markdown",
   "metadata": {
    "pycharm": {
     "metadata": false
    }
   },
   "source": [
    "### get fail line set"
   ]
  },
  {
   "cell_type": "code",
   "execution_count": 10,
   "metadata": {
    "pycharm": {
     "metadata": false,
     "name": "#%%\n"
    }
   },
   "outputs": [
    {
     "data": {
      "text/plain": [
       "tensor([0., 0., 0., 1., 1., 1., 1., 1., 1., 1., 0., 0., 1., 1., 1., 1., 1., 1.,\n",
       "        1., 0., 0., 1., 0., 0., 0., 1., 1., 0., 1., 1., 0., 0., 0., 0., 0.],\n",
       "       dtype=torch.float64)"
      ]
     },
     "execution_count": 10,
     "metadata": {},
     "output_type": "execute_result"
    }
   ],
   "source": [
    "s_f = [1]*n_in\n",
    "for i in range(batch_size):\n",
    "    if(y_train[i]==1):\n",
    "        s_f = np.multiply(s_f,x_train[i])\n",
    "s_f"
   ]
  },
  {
   "cell_type": "markdown",
   "metadata": {
    "pycharm": {
     "metadata": false
    }
   },
   "source": [
    "### test fail line"
   ]
  },
  {
   "cell_type": "code",
   "execution_count": 11,
   "metadata": {
    "pycharm": {
     "is_executing": false,
     "metadata": false,
     "name": "#%%\n"
    }
   },
   "outputs": [
    {
     "data": {
      "text/plain": [
       "[(10, 0.6658340692520142),\n",
       " (14, 0.6658324003219604),\n",
       " (13, 0.6648048162460327),\n",
       " (30, 0.6646876931190491),\n",
       " (15, 0.6644898056983948),\n",
       " (27, 0.66398686170578),\n",
       " (6, 0.6637893915176392),\n",
       " (9, 0.6637670993804932),\n",
       " (7, 0.6634989976882935),\n",
       " (22, 0.6628691554069519),\n",
       " (17, 0.66255784034729),\n",
       " (26, 0.6617504954338074),\n",
       " (8, 0.6615161299705505),\n",
       " (19, 0.6612963676452637),\n",
       " (4, 0.6606374382972717),\n",
       " (5, 0.6601893305778503),\n",
       " (18, 0.6590614318847656),\n",
       " (29, 0.6588956117630005),\n",
       " (16, 0.6581851840019226)]"
      ]
     },
     "execution_count": 11,
     "metadata": {},
     "output_type": "execute_result"
    }
   ],
   "source": [
    "model.eval()\n",
    "result = []\n",
    "for i in range(n_in):\n",
    "    if(s_f[i]==1):\n",
    "        test = torch.tensor(np.float32([0]*n_in))\n",
    "        test[i] = 1\n",
    "        result.append((i+1,float(model(test)[0])))\n",
    "\n",
    "sorted(result,key=lambda x:x[1],reverse=True)\n"
   ]
  },
  {
   "cell_type": "code",
   "execution_count": null,
   "metadata": {},
   "outputs": [],
   "source": []
  }
 ],
 "metadata": {
  "kernelspec": {
   "display_name": "PyCharm (comp3211)",
   "language": "python",
   "name": "pycharm-7eda678e"
  },
  "language_info": {
   "codemirror_mode": {
    "name": "ipython",
    "version": 3
   },
   "file_extension": ".py",
   "mimetype": "text/x-python",
   "name": "python",
   "nbconvert_exporter": "python",
   "pygments_lexer": "ipython3",
   "version": "3.7.2"
  },
  "stem_cell": {
   "cell_type": "raw",
   "metadata": {
    "pycharm": {
     "metadata": false
    }
   },
   "source": ""
  }
 },
 "nbformat": 4,
 "nbformat_minor": 1
}
