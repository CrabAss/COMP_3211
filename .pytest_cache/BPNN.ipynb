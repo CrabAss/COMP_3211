{
  "cells": [
    {
      "cell_type": "markdown",
      "source": "### import torch , bumpy and matplot ",
      "metadata": {
        "pycharm": {
          "metadata": false
        }
      }
    },
    {
      "cell_type": "code",
      "execution_count": null,
      "outputs": [],
      "source": "import torch\nfrom torch.autograd import Variable\nimport torch.nn as nn\nimport torch.nn.functional as F\nimport numpy as np\nfrom sklearn.model_selection import train_test_split\nimport matplotlib.pyplot as plt",
      "metadata": {
        "pycharm": {
          "metadata": false,
          "name": "#%%\n"
        }
      }
    },
    {
      "cell_type": "markdown",
      "source": "### check gpu",
      "metadata": {
        "pycharm": {
          "metadata": false,
          "name": "#%% md\n"
        }
      }
    },
    {
      "cell_type": "code",
      "execution_count": null,
      "outputs": [],
      "source": "device \u003d torch.device(\u0027cuda\u0027 if torch.cuda.is_available() else \u0027cpu\u0027)",
      "metadata": {
        "pycharm": {
          "metadata": false,
          "name": "#%%\n"
        }
      }
    },
    {
      "cell_type": "markdown",
      "source": "### import data",
      "metadata": {
        "pycharm": {
          "metadata": false,
          "name": "#%% md\n",
          "is_executing": false
        }
      }
    },
    {
      "cell_type": "code",
      "execution_count": 17,
      "outputs": [],
      "source": "temp_x \u003d np.loadtxt(\"./qsort_qsort.py.csv\",dtype\u003dnp.float32, delimiter\u003d\",\")\ntemp_y \u003d np.loadtxt(\"qsort_result.txt\",dtype\u003dnp.float32, delimiter\u003d\",\")\n",
      "metadata": {
        "pycharm": {
          "metadata": false,
          "name": "#%%\n",
          "is_executing": false
        }
      }
    },
    {
      "cell_type": "markdown",
      "source": "### process data \n[\u003e0 \u003d\u003e 1, 0 \u003d\u003e 0]  \n",
      "metadata": {
        "pycharm": {
          "metadata": false
        }
      }
    },
    {
      "cell_type": "code",
      "execution_count": null,
      "outputs": [],
      "source": "x_train \u003d np.float32(temp_x\u003e0)\ny_train \u003d temp_y     ",
      "metadata": {
        "pycharm": {
          "metadata": false,
          "name": "#%%\n"
        }
      }
    },
    {
      "cell_type": "markdown",
      "source": "### set size and batch",
      "metadata": {
        "pycharm": {
          "metadata": false
        }
      }
    },
    {
      "cell_type": "code",
      "execution_count": null,
      "outputs": [],
      "source": "n_in, n_h, n_out, batch_size \u003d len(x_train[0]), 3, 1, len(x_train)\n\nx_train \u003d torch.tensor(x_train)\ny_train \u003d torch.tensor(y_train.T)\n",
      "metadata": {
        "pycharm": {
          "metadata": false,
          "name": "#%%\n"
        }
      }
    },
    {
      "cell_type": "markdown",
      "source": "### design model,loss function and optimizer",
      "metadata": {
        "pycharm": {
          "metadata": false,
          "name": "#%% md\n",
          "is_executing": false
        }
      }
    },
    {
      "cell_type": "code",
      "execution_count": 19,
      "outputs": [
        {
          "name": "stdout",
          "text": [
            "Sequential(\n  (0): Linear(in_features\u003d35, out_features\u003d3, bias\u003dTrue)\n  (1): Sigmoid()\n  (2): Linear(in_features\u003d3, out_features\u003d1, bias\u003dTrue)\n  (3): Sigmoid()\n)\nMSELoss()\nSGD (\nParameter Group 0\n    dampening: 0\n    lr: 0.01\n    momentum: 0\n    nesterov: False\n    weight_decay: 1e-06\n)\n"
          ],
          "output_type": "stream"
        }
      ],
      "source": "model \u003d nn.Sequential(nn.Linear(n_in,n_h),\n                          nn.Sigmoid(),\n                          nn.Linear(n_h,n_out),\n                          nn.Sigmoid())\n# loss\ncriterion \u003d torch.nn.MSELoss()\n# optimizer\noptimizer \u003d torch.optim.SGD(model.parameters(), lr\u003d0.01,weight_decay \u003d 1e-6)\nprint(model)\nprint(criterion)\nprint(optimizer)",
      "metadata": {
        "pycharm": {
          "metadata": false,
          "name": "#%%\n",
          "is_executing": false
        }
      }
    },
    {
      "cell_type": "markdown",
      "source": "### save loss for draw plot\n",
      "metadata": {
        "pycharm": {
          "metadata": false
        }
      }
    },
    {
      "cell_type": "code",
      "execution_count": 8,
      "outputs": [],
      "source": "loss_list \u003d[]",
      "metadata": {
        "pycharm": {
          "metadata": false,
          "name": "#%%\n",
          "is_executing": false
        }
      }
    },
    {
      "cell_type": "markdown",
      "source": "### train\n\n",
      "metadata": {
        "pycharm": {
          "metadata": false,
          "name": "#%% md\n"
        }
      }
    },
    {
      "cell_type": "code",
      "execution_count": 9,
      "outputs": [
        {
          "name": "stdout",
          "text": [
            "i:  0  loss:  0.2806034982204437\n",
            "i:  100  loss:  0.25861021876335144\n",
            "i:  200  loss:  0.24451930820941925\n",
            "i:  300  loss:  0.23548853397369385\n",
            "i:  400  loss:  0.22963358461856842\n",
            "i:  500  loss:  0.225783571600914\n",
            "i:  600  loss:  0.22321736812591553\n",
            "i:  700  loss:  0.22148628532886505\n",
            "i:  800  loss:  0.22030645608901978\n",
            "i:  900  loss:  0.2194952666759491\n",
            "i:  1000  loss:  0.21893338859081268\n",
            "i:  1100  loss:  0.21854177117347717\n",
            "i:  1200  loss:  0.21826736629009247\n",
            "i:  1300  loss:  0.2180742472410202\n",
            "i:  1400  loss:  0.21793779730796814\n",
            "i:  1500  loss:  0.21784108877182007\n",
            "i:  1600  loss:  0.21777236461639404\n",
            "i:  1700  loss:  0.21772339940071106\n",
            "i:  1800  loss:  0.2176884561777115\n",
            "i:  1900  loss:  0.2176634669303894\n",
            "i:  2000  loss:  0.2176455855369568\n",
            "i:  2100  loss:  0.21763277053833008\n",
            "i:  2200  loss:  0.21762356162071228\n",
            "i:  2300  loss:  0.2176169604063034\n",
            "i:  2400  loss:  0.21761220693588257\n",
            "i:  2500  loss:  0.21760879456996918\n",
            "i:  2600  loss:  0.2176063358783722\n",
            "i:  2700  loss:  0.21760456264019012\n",
            "i:  2800  loss:  0.21760329604148865\n",
            "i:  2900  loss:  0.21760237216949463\n"
          ],
          "output_type": "stream"
        }
      ],
      "source": "for i in range(3000):\n    # forward prapagation\n    model.train()\n    y_pred \u003d model(x_train)\n\n    # loss\n    loss \u003d criterion(y_pred,y_train)\n    loss_list.append(float(loss))\n\n    #print(model.named_parameters())\n\n    optimizer.zero_grad()\n    loss.backward()\n    optimizer.step()\n\n    if i % 100 \u003d\u003d 0:\n        print(\u0027i: \u0027, i, \u0027 loss: \u0027, loss.item())",
      "metadata": {
        "pycharm": {
          "metadata": false,
          "name": "#%%\n",
          "is_executing": false
        }
      }
    },
    {
      "cell_type": "markdown",
      "source": "### print loss result\n",
      "metadata": {
        "pycharm": {
          "metadata": false
        }
      }
    },
    {
      "cell_type": "code",
      "execution_count": 10,
      "outputs": [
        {
          "data": {
            "text/plain": "\u003cFigure size 432x288 with 1 Axes\u003e",
            "image/png": "iVBORw0KGgoAAAANSUhEUgAAAYsAAAEKCAYAAADjDHn2AAAABHNCSVQICAgIfAhkiAAAAAlwSFlzAAALEgAACxIB0t1+/AAAADl0RVh0U29mdHdhcmUAbWF0cGxvdGxpYiB2ZXJzaW9uIDIuMi4zLCBodHRwOi8vbWF0cGxvdGxpYi5vcmcvIxREBQAAH91JREFUeJzt3XuUFeWd7vHvw1UNiiito4CAgCgaBdMQI0mMiAY0A5rl8ZKQeFvxmBzWxKO5kMFcRpe5SCYrZsaVyIzJqJOIt/HEmWjUGEyWMSBNQBQJ2iJGxEij8YqC4O/88VbLpu3u3Q1dXXvvfj5r1dpV735r96/cTT9WvXVRRGBmZtaeXkUXYGZmlc9hYWZmZTkszMysLIeFmZmV5bAwM7OyHBZmZlaWw8LMzMpyWJiZWVkOCzMzK6tP0QV0lcGDB8eIESOKLsPMrKosXbp0Y0TUletXM2ExYsQIGhoaii7DzKyqSHqmI/18GMrMzMpyWJiZWVkOCzMzK8thYWZmZTkszMysLIeFmZmVlWtYSJomabWkRklzWnn/EkmPS1oh6X5Jw0veu0rSSkmrJP1IkvKs1czM2pZbWEjqDVwDTAfGAWdLGtei2zKgPiKOBG4DrsrWPRaYDBwJHAFMBI7LpdCXX4bLL4clS3L5eDOzWpDnnsUkoDEi1kTEFmABMLO0Q0QsjIhN2eIiYGjzW8BuQD+gP9AXeCGXKiX45jfhgQdy+Xgzs1qQZ1gMAZ4tWV6XtbXlAuBugIj4I7AQeD6b7omIVblUOXAgDBoEa9fm8vFmZrUgz7BobYwhWu0ozQLqgXnZ8mjgMNKexhBgiqSPtrLehZIaJDU0NTXtfKUjRjgszMzakWdYrAOGlSwPBda37CRpKjAXmBERm7Pm04BFEfF6RLxO2uM4puW6ETE/Iuojor6urux9sNrmsDAza1eeYbEEGCNppKR+wFnAnaUdJE0AriUFxYaSt/4CHCepj6S+pMHtfA5DwfawiFZ3fMzMerzcwiIitgKzgXtIf+hviYiVki6XNCPrNg8YANwqabmk5jC5DXgKeBR4BHgkIv47r1oZMQI2bYKNG3P7EWZm1SzXW5RHxF3AXS3avlEyP7WN9bYB/zvP2nbQ/ByMtWthVw5nmZnVKF/BDTuGhZmZvYfDAmB4duG4w8LMrFUOC/C1FmZmZTgsmvn0WTOzNjksmjkszMza5LBo5mstzMza5LBo5mstzMza5LBo5tNnzcza5LBo5rAwM2uTw6KZr7UwM2uTw6KZr7UwM2uTw6LUiBHw9NNFV2FmVnEcFqUOPhjWrCm6CjOziuOwKDVqVAqLbduKrsTMrKI4LEqNHg1vvw3r1hVdiZlZRXFYlBo1Kr0+9VSxdZiZVRiHRanmsGhsLLYOM7MK47AoNXQo9OvnPQszsxYcFqV694aRI71nYWbWgsOipdGjvWdhZtaCw6KlUaNSWPhW5WZm73JYtDRqFLz+OmzYUHQlZmYVw2HR0ujR6dWHoszM3pVrWEiaJmm1pEZJc1p5/xJJj0taIel+ScOz9uMlLS+Z3pJ0ap61vsunz5qZvUduYSGpN3ANMB0YB5wtaVyLbsuA+og4ErgNuAogIhZGxPiIGA9MATYB9+ZV6w5GjIBevbxnYWZWIs89i0lAY0SsiYgtwAJgZmmHLBQ2ZYuLgKGtfM7pwN0l/fLVvz8MG+awMDMrkWdYDAGeLVlel7W15QLg7lbazwJu6sK6yhs92oehzMxK5BkWaqWt1fNRJc0C6oF5LdoPAN4P3NPGehdKapDU0NTUtIvllmg+fdbMzIB8w2IdMKxkeSiwvmUnSVOBucCMiNjc4u0zgDsi4u3WfkBEzI+I+oior6ur66KySWGxcSO8/HLXfaaZWRXLMyyWAGMkjZTUj3Q46c7SDpImANeSgqK1CxvOprsPQQEcckh6ffLJbv/RZmaVKLewiIitwGzSIaRVwC0RsVLS5ZJmZN3mAQOAW7NTZN8NE0kjSHsmv8urxjaNHZte//znbv/RZmaVqE+eHx4RdwF3tWj7Rsn81HbWXUv7A+L5GTUq3VRw9epCfryZWaXxFdyt6dcvPY/bYWFmBjgs2jZ2rMPCzCzjsGjL2LFpgPudd4quxMyscA6LtowdC2+9BX/5S9GVmJkVzmHRFp8RZWb2LodFWw49NL163MLMzGHRpro62Htvh4WZGQ6Ltkk+I8rMLOOwaI/DwswMcFi0b+xYeO45eO21oisxMyuUw6I9zWdEPfFEsXWYmRXMYdEenxFlZgY4LNo3enS6oeCqVUVXYmZWKIdFe/r3hzFj4LHHiq7EzKxQDotyDj8cVq4sugozs0I5LMo54ghobIQ33yy6EjOzwjgsyjn8cIjwPaLMrEdzWJRz+OHp1YeizKwHc1iUM2YM9O3rQW4z69EcFuX07ZsuzvOehZn1YA6LjvAZUWbWwzksOuKII+Dpp+H114uuxMysELmGhaRpklZLapQ0p5X3L5H0uKQVku6XNLzkvYMk3StpVdZnRJ61tqt5kNtXcptZD5VbWEjqDVwDTAfGAWdLGtei2zKgPiKOBG4Drip57wZgXkQcBkwCNuRVa1nNYeFBbjProfLcs5gENEbEmojYAiwAZpZ2iIiFEbEpW1wEDAXIQqVPRNyX9Xu9pF/3GzUq3frD4xZm1kPlGRZDgGdLltdlbW25ALg7mz8EeFnSf0laJmletqdSjN694bDDvGdhZj1WnmGhVtqi1Y7SLKAemJc19QE+AnwJmAgcDJzbynoXSmqQ1NDU1NQVNbftqKNgxYp8f4aZWYXKMyzWAcNKlocC61t2kjQVmAvMiIjNJesuyw5hbQX+H3B0y3UjYn5E1EdEfV1dXZdvwA7Gj4fnn4cXXsj355iZVaA8w2IJMEbSSEn9gLOAO0s7SJoAXEsKig0t1h0kqTkBpgCP51hreePHp9flywstw8ysCLmFRbZHMBu4B1gF3BIRKyVdLmlG1m0eMAC4VdJySXdm624jHYK6X9KjpENa/5ZXrR1y1FHp1WFhZj1Qnzw/PCLuAu5q0faNkvmp7ax7H3BkftV10qBBMHy4w8LMeiRfwd0Z48c7LMysR3JYdMaECbB6NbzxRtGVmJl1K4dFZ4wfnx6E5OstzKyHcVh0hs+IMrMeymHRGQcdBHvv7bAwsx7HYdEZkge5zaxHclh01vjx6bYf27YVXYmZWbdxWHTWhAmwaVM6K8rMrIdwWHTWxInpdcmSYuswM+tGDovOGjsW9twTHn646ErMzLqNw6KzevWC+nrvWZhZj+Kw2BkTJ8Ijj8DmzeX7mpnVAIfFzpg4EbZs8cOQzKzHcFjsjEmT0qsPRZlZD+Gw2BnDhsF++zkszKzHcFjsDCkdivIZUWbWQzgsdtbEibBqFbz2WtGVmJnlzmGxsyZNSrcr/9Ofiq7EzCx3Doud1Xwl96JFxdZhZtYNHBY7a/BgGDMGHnqo6ErMzHLnsNgVH/4w/OEP6XCUmVkNc1jsismT4cUXfQdaM6t5HQoLSV+UtJeS6yT9SdJJeRdX8SZPTq9/+EOxdZiZ5ayjexbnR8SrwElAHXAe8N1yK0maJmm1pEZJc1p5/xJJj0taIel+ScNL3tsmaXk23dnBOrvX2LGw774OCzOreX062E/Z68nAzyLiEUlqdwWpN3ANcCKwDlgi6c6IeLyk2zKgPiI2Sfo8cBVwZvbemxExvqMbUggJjj3WYWFmNa+jexZLJd1LCot7JO0JvFNmnUlAY0SsiYgtwAJgZmmHiFgYEZuyxUXA0I6XXiEmT4YnnoCmpqIrMTPLTUfD4gJgDjAx++Pel3Qoqj1DgGdLltdlbe39jLtLlneT1CBpkaRTW1tB0oVZn4amov5YN49b+BRaM6thHQ2LDwGrI+JlSbOAy4BXyqzT2mGqVs8xzT6zHphX0nxQRNQDnwJ+KGnUez4sYn5E1EdEfV1dXUe2o+vV10O/fvDgg8X8fDOzbtDRsPgxsEnSUcBXgGeAG8qssw4YVrI8FFjfspOkqcBcYEZEvPs0oYhYn72uAR4AJnSw1u61224pMBwWZlbDOhoWWyMiSGMOV0fE1cCeZdZZAoyRNFJSP+AsYIezmiRNAK4lBcWGkvZBkvpn84OByUDpwHhlOe64dLty31TQzGpUR8PiNUlfAz4D/Co706lveytExFZgNnAPsAq4JSJWSrpc0oys2zxgAHBri1NkDwMaJD0CLAS+2+IsqsoyZQps2+a9CzOrWR09dfZM0tjB+RHxV0kHseP4Qqsi4i7grhZt3yiZn9rGeg8B7+9gbcU79tg0bvHb38L06UVXY2bW5Tq0ZxERfwV+DgyU9AngrYgoN2bRc+yxBxxzDCxcWHQlZma56OjtPs4AHgb+F3AGsFjS6XkWVnWmTEnPtvjb34quxMysy3V0zGIu6RqLcyLis6QL7r6eX1lV6Pjj091nf//7oisxM+tyHQ2LXqVnKwEvdmLdnuGDH4Tdd0/jFmZmNaajA9y/lnQPcFO2fCYtBq57vP7909XcHrcwsxrU0QHuLwPzgSOBo4D5EfHVPAurSlOmwKOPwgsvFF2JmVmX6vChpIi4PSIuiYj/GxF35FlU1Tope8THvfcWW4eZWRdrNywkvSbp1Vam1yS92l1FVo0JE2C//eDXvy66EjOzLtXumEVElLulh5Xq1Qs+/nG46650RXfv3kVXZGbWJXxGU1ebPj09l7uhoehKzMy6jMOiq514YnqCng9FmVkNcVh0tcGDYdIkuPvu8n3NzKqEwyIP06fDww/Dxo1FV2Jm1iUcFnmYNi3d+sOn0JpZjXBY5KG+Pp1Ce+ed5fuamVUBh0UeeveGmTPTKbSbN5fvb2ZW4RwWeTn11PSYVd9Y0MxqgMMiL1OmwIABcIfvjGJm1c9hkZfddoOTT4Zf/jJdzW1mVsUcFnk69VTYsAEWLy66EjOzXeKwyNPJJ0Pfvj4UZWZVz2GRp4ED4YQT4Lbb0nUXZmZVKtewkDRN0mpJjZLmtPL+JZIel7RC0v2Shrd4fy9Jz0n61zzrzNWZZ8LatT4UZWZVLbewkNQbuAaYDowDzpY0rkW3ZUB9RBwJ3AZc1eL9K4Df5VVjtzjttPTI1ZtuKt/XzKxC5blnMQlojIg1EbEFWADMLO0QEQsjYlO2uAgY2vyepA8A+wPVfc+MgQPhlFPg5pth69aiqzEz2yl5hsUQ4NmS5XVZW1suAO4GkNQL+Gfgy7lV153OPjs9l/uBB4quxMxsp+QZFmqlrdVRXkmzgHpgXtb0BeCuiHi2tf4l610oqUFSQ1NT0y4Vm6tTToE99/ShKDOrWnmGxTpgWMnyUGB9y06SpgJzgRkR0XwjpQ8BsyWtBb4PfFbSd1uuGxHzI6I+Iurr6uq6uv6us/vu6ZqL22/3vaLMrCrlGRZLgDGSRkrqB5wF7HAbVkkTgGtJQbGhuT0iPh0RB0XECOBLwA0R8Z6zqarKrFnwyivpim4zsyqTW1hExFZgNnAPsAq4JSJWSrpc0oys2zxgAHCrpOWSavee3iecAMOGwXXXFV2JmVmnKWrkYrH6+vpoaGgouoz2ffObcMUV6bqLgw4quhozMyQtjYj6cv18BXd3Ou+8dCX3f/xH0ZWYmXWKw6I7jRiRDkf97GfwzjtFV2Nm1mEOi+52wQXpMNTChUVXYmbWYQ6L7nbaabDPPvCTnxRdiZlZhzksuttuu6W9izvugGfbvebQzKxiOCyK8IUvpIHuH/+46ErMzDrEYVGEESNgxgyYPx/efLPoaszMynJYFOUf/gFefBEWLCi6EjOzshwWRfnYx+CII+Dqq/0UPTOreA6Lokhw8cXwyCNw331FV2Nm1i6HRZFmzYIhQ+A73ym6EjOzdjksitS/P1x6aXoo0kMPFV2NmVmbHBZF+9znYN99vXdhZhXNYVG0AQPgi1+E//mfNH5hZlaBHBaVYPZs2GuvdAtzM7MK5LCoBIMGwZe+lJ6it3hx0dWYmb2Hw6JSXHwx1NXBP/5j0ZWYmb2Hw6JS7LknzJ0Lv/0t/OY3RVdjZrYDh0Ulueii9LjVOXP8cCQzqygOi0rSvz9ceSUsXQrXX190NWZm73JYVJpPfxo+9KG0d/HKK0VXY2YGOCwqjwT/8i/Q1ARXXFF0NWZmQM5hIWmapNWSGiXNaeX9SyQ9LmmFpPslDc/ah0taKmm5pJWSLsqzzorzgQ+kp+ldfTWsWlV0NWZm+YWFpN7ANcB0YBxwtqRxLbotA+oj4kjgNuCqrP154NiIGA98EJgj6cC8aq1IV16ZzpC68EIPdptZ4fLcs5gENEbEmojYAiwAZpZ2iIiFEbEpW1wEDM3at0TE5qy9f851Vqb99oMf/AAefNCPXzWzwuX5R3gI8GzJ8rqsrS0XAHc3L0gaJmlF9hnfi4j1uVRZyc45B046KQ12P/NM0dWYWQ+WZ1iolbZWHwknaRZQD8x7t2PEs9nhqdHAOZL2b2W9CyU1SGpoamrqorIriATXXpuepOfDUWZWoDzDYh0wrGR5KPCevQNJU4G5wIySQ0/vyvYoVgIfaeW9+RFRHxH1dXV1XVZ4RRkxAubNg3vvhR/9qOhqzKyHyjMslgBjJI2U1A84C7iztIOkCcC1pKDYUNI+VNLu2fwgYDKwOsdaK9tFF8GMGfDVr8KyZUVXY2Y9UG5hERFbgdnAPcAq4JaIWCnpckkzsm7zgAHArdlpss1hchiwWNIjwO+A70fEo3nVWvEkuO46GDwYzj4b3nij6IrMrIdRRKvDCFWnvr4+Ghoaii4jX/ffDyeemJ7dff31KUTMzHaBpKURUV+uX887JbWanXBCekDSjTd6/MLMupXDotp8/eswcyZcemm6nbmZWTdwWFSbXr3ghhvgkEPgjDOgsbHoisysB3BYVKO99kqPYAWYNg1eeKHYesys5jksqtWYMfCrX8Hzz8Mpp8DrrxddkZnVMIdFNfvgB+GWW2D5cvjkJ+Gtt4quyMxqlMOi2p1ySroG4ze/gVNPdWCYWS4cFrXgnHPg3/893RJk5kx4882iKzKzGuOwqBXnn5/2MO67Dz7xCXj11aIrMrMa4rCoJeedl67s/v3v4SMfgfU9767uZpYPh0Wt+cxn0llSa9bAMcfA448XXZGZ1QCHRS066aS0d/H22ykw7rij6IrMrMo5LGrVhAnw8MNw2GHptNq5c2HbtqKrMrMq5bCoZcOGpT2Mz30Ovv3ttMexbl3RVZlZFXJY1Lr+/WH+/HSm1OLF8P73w803F12VmVUZh0VPcf756UrvsWPhrLPSQ5R8Tykz6yCHRU8yejQ8+CBcfjncfjsceihcey28807RlZlZhXNY9DR9+qRnYqxYkQbBL7oIjj0W/vjHoiszswrmsOipDj00Pab1xhth7doUGJ/8JPz5z0VXZmYVyGHRk0nped6NjXDFFelmhEcckcY3Vq8uujozqyAOC4MBA+Cyy+Cpp2D2bLjppnR9xumnw9KlRVdnZhXAYWHb1dXBD38IzzwDX/ta2tOor4cPfxh+/nPYvLnoCs2sIA4Le6/99oMrr0yh8f3vp1NsZ82CoUPhK1+BlSuLrtDMulmuYSFpmqTVkholzWnl/UskPS5phaT7JQ3P2sdL+qOkldl7Z+ZZp7Vh4EC49NI0fnHvvfDRj8IPfpDGNY46Cr73vRQoZlbzFBH5fLDUG3gCOBFYBywBzo6Ix0v6HA8sjohNkj4PfCwizpR0CBAR8aSkA4GlwGER8XJbP6++vj4aGhpy2RYr8cILcOut8ItfbD/dduLE9AyNv/97GD8+DZybWVWQtDQi6sv1y3PPYhLQGBFrImILsACYWdohIhZGxKZscREwNGt/IiKezObXAxuAuhxrtY7af/80CP7QQ2lA/Nvfhl694FvfgqOPTvejuvDCdEuRv/616GrNrIvkGRZDgGdLltdlbW25ALi7ZaOkSUA/4KlW3rtQUoOkhqampl0s1zrt4IPTQPiiRfD88/Czn6Vboi9YkG4pcsAB6XqOiy5KZ1g99RTktCdrZvnqk+Nnt3YsotW/FJJmAfXAcS3aDwBuBM6JiPfckyIi5gPzIR2G2tWCbRfsvz+ce26atm6FZcvggQfS9ItfpNuKAOyzTzrDauLENI0fDwcd5ENXZhUuz7BYBwwrWR4KvOc5n5KmAnOB4yJic0n7XsCvgMsiYlGOdVpX69Nnexh8+cspPFasgCVLtk/f/e7252sMGADjxsHhh6fB88MPh0MOSYe0+uT5K2pmHZXnAHcf0gD3CcBzpAHuT0XEypI+E4DbgGnNYxRZez/SIan/jogfduTneYC7ymzalPY+HnssTStXpmnDhu19+vSB4cPT4a5Ro9LrwQenEBkyJO3NOEzMdklHB7hz+5cWEVslzQbuAXoDP42IlZIuBxoi4k5gHjAAuFXpMMRfImIGcAbwUWBfSedmH3luRCzPq17rZnvsAZMnp6nUxo0pNBob0xjHmjVpuvVWePHFHfv26pUCY8gQOPDA9HrAATB48Papri697rsv9O3bfdtnVmNy27Pobt6z6AFefhmefhqee277tH79jvMtA6XUwIEpOPbZB/baK00DB+742nJ+jz12nHbfHXbbLQWVWQ0ofM/CrMvtvXe6rfqECW332bIFXnop7aFs3AhNTdvnm6eXXoJXX03XjLzySpp/9dXOnam1++5pKg2R5td+/XZt6t07HV7r3fu9U2vtHe3bq1c6kaB5Kl3uyHzzZD2Sw8JqS79+8Hd/l6bOeOcdeOONHcPjlVfgzTfT+MqmTTvOt1xunn/zTXjttRRapdPbb7+3rVp1RdB0dn5n1unK9bvrs3bWUUel09Nz5LAwg/SHbc8909QdItJZYi0DZPPmdJbYtm3p/eb59to62h6RQjFi+1S6nPd86bZ3Zn5n1unK9bvrs3bFyJFd8zntcFiYFUFKA+59+8L73ld0NWZleZTOzMzKcliYmVlZDgszMyvLYWFmZmU5LMzMrCyHhZmZleWwMDOzshwWZmZWVs3cSFBSE/DMLnzEYGBjF5VTpFrZDvC2VKpa2ZZa2Q7YtW0ZHhFlH1tdM2GxqyQ1dOTOi5WuVrYDvC2Vqla2pVa2A7pnW3wYyszMynJYmJlZWQ6L7eYXXUAXqZXtAG9LpaqVbamV7YBu2BaPWZiZWVneszAzs7J6fFhImiZptaRGSXOKrqcjJK2V9Kik5ZIasrZ9JN0n6cnsdVDWLkk/yrZvhaSjC679p5I2SHqspK3TtUs6J+v/pKRzKmQ7viXpuex7WS7p5JL3vpZtx2pJHy9pL/z3T9IwSQslrZK0UtIXs/Zq/F7a2paq+m4k7SbpYUmPZNvxT1n7SEmLs/++N0vql7X3z5Ybs/dHlNu+TouIHjsBvYGngIOBfsAjwLii6+pA3WuBwS3argLmZPNzgO9l8ycDdwMCjgEWF1z7R4Gjgcd2tnZgH2BN9joomx9UAdvxLeBLrfQdl/1u9QdGZr9zvSvl9w84ADg6m98TeCKruRq/l7a2paq+m+y/7YBsvi+wOPtvfQtwVtb+E+Dz2fwXgJ9k82cBN7e3fTtTU0/fs5gENEbEmojYAiwAZhZc086aCVyfzV8PnFrSfkMki4C9JR1QRIEAEfF74KUWzZ2t/ePAfRHxUkT8DbgPmJZ/9du1sR1tmQksiIjNEfE00Ej63auI37+IeD4i/pTNvwasAoZQnd9LW9vSlor8brL/tq9ni32zKYApwG1Ze8vvpPm7ug04QZJoe/s6raeHxRDg2ZLldbT/i1UpArhX0lJJF2Zt+0fE85D+wQD7Ze3VsI2drb2St2l2dmjmp82Hbaii7cgOX0wg/Z9sVX8vLbYFquy7kdRb0nJgAyl4nwJejoitrdT0br3Z+68A+9KF29HTw0KttFXD6WGTI+JoYDrwfyR9tJ2+1bqN0HbtlbpNPwZGAeOB54F/ztqrYjskDQBuBy6OiFfb69pKW0VtTyvbUnXfTURsi4jxwFDS3sBh7dSU+3b09LBYBwwrWR4KrC+olg6LiPXZ6wbgDtIv0gvNh5ey1w1Z92rYxs7WXpHbFBEvZP/A3wH+je27+xW/HZL6kv64/jwi/itrrsrvpbVtqebvJiJeBh4gjVnsLalPKzW9W2/2/kDSYdIu246eHhZLgDHZGQb9SANDdxZcU7skvU/Sns3zwEnAY6S6m88+OQf4ZTZ/J/DZ7AyWY4BXmg8tVJDO1n4PcJKkQdnhhJOytkK1GAs6jfS9QNqOs7IzVkYCY4CHqZDfv+zY9nXAqoj4QclbVfe9tLUt1fbdSKqTtHc2vzswlTT+shA4PevW8jtp/q5OB34baYS7re3rvO4a3a/UiXRmxxOk44Fzi66nA/UeTDq74RFgZXPNpOOT9wNPZq/7xPazKq7Jtu9RoL7g+m8iHQZ4m/R/PRfsTO3A+aTBukbgvArZjhuzOldk/0gPKOk/N9uO1cD0Svr9Az5MOjSxAlieTSdX6ffS1rZU1XcDHAksy+p9DPhG1n4w6Y99I3Ar0D9r3y1bbszeP7jc9nV28hXcZmZWVk8/DGVmZh3gsDAzs7IcFmZmVpbDwszMynJYmJlZWQ4Lsy4m6WJJexRdh1lX8qmzZl1M0lrStQcbi67FrKv0Kd/FzNqSXUV/C+k2Cr1JF0YdCCyUtDEijpd0EvBPpNtEP0W6WO31LFRuBo7PPu5TEdHY3dtg1hE+DGW2a6YB6yPiqIg4Avgh6d47x2dBMRi4DJga6eaPDcAlJeu/GhGTgH/N1jWrSA4Ls13zKDBV0vckfSQiXmnx/jGkB9D8Ibvd9DnA8JL3byp5/VDu1ZrtJB+GMtsFEfGEpA+Q7iP0HUn3tugi0gOBzm7rI9qYN6so3rMw2wWSDgQ2RcR/At8nPWr1NdIjPQEWAZMljc767yHpkJKPOLPk9Y/dU7VZ53nPwmzXvB+YJ+kd0h1oP086nHS3pOezcYtzgZsk9c/WuYx0N1OA/pIWk/7Hra29D7PC+dRZs4L4FFurJj4MZWZmZXnPwszMyvKehZmZleWwMDOzshwWZmZWlsPCzMzKcliYmVlZDgszMyvr/wPWxKiQ1wJIdwAAAABJRU5ErkJggg\u003d\u003d\n"
          },
          "metadata": {
            "needs_background": "light"
          },
          "output_type": "display_data"
        }
      ],
      "source": "fig \u003d plt.figure()\nax1 \u003d fig.add_subplot(111)\nplt.xlabel(\u0027step\u0027)\nplt.ylabel(\u0027loss\u0027)\nplt.plot([i for i in range(3000)], loss_list, c\u003d\u0027r\u0027)\nplt.show()",
      "metadata": {
        "pycharm": {
          "metadata": false,
          "name": "#%%\n",
          "is_executing": false
        }
      }
    },
    {
      "cell_type": "markdown",
      "source": "### get fail line set",
      "metadata": {
        "pycharm": {
          "metadata": false
        }
      }
    },
    {
      "cell_type": "code",
      "execution_count": null,
      "outputs": [],
      "source": "s_f \u003d [1]*n_in\nfor i in range(batch_size):\n    if(y_train[i]\u003d\u003d1):\n        s_f \u003d np.multiply(s_f,x_train[i])\ns_f",
      "metadata": {
        "pycharm": {
          "metadata": false,
          "name": "#%%\n"
        }
      }
    },
    {
      "cell_type": "markdown",
      "source": "### test fail line",
      "metadata": {
        "pycharm": {
          "metadata": false
        }
      }
    },
    {
      "cell_type": "code",
      "execution_count": 14,
      "outputs": [
        {
          "data": {
            "text/plain": "[(26, 0.6905935406684875),\n (10, 0.6893508434295654),\n (9, 0.6891078352928162),\n (14, 0.688995361328125),\n (6, 0.6887840628623962),\n (18, 0.688305675983429),\n (22, 0.68817138671875),\n (4, 0.6868780255317688),\n (15, 0.686158299446106),\n (19, 0.6861116290092468),\n (5, 0.685859739780426),\n (29, 0.6858188509941101),\n (30, 0.6857354044914246),\n (27, 0.6851668953895569),\n (17, 0.6850924491882324),\n (13, 0.6846706867218018),\n (7, 0.6846639513969421),\n (8, 0.6846418380737305),\n (16, 0.684525728225708)]"
          },
          "metadata": {},
          "output_type": "execute_result",
          "execution_count": 14
        }
      ],
      "source": "model.eval()\nresult \u003d []\nfor i in range(n_in):\n    if(s_f[i]\u003d\u003d1):\n        test \u003d torch.tensor(np.float32([0]*n_in))\n        test[i] \u003d 1\n        result.append((i+1,float(model(test)[0])))\n\nsorted(result,key\u003dlambda x:x[1],reverse\u003dTrue)\n",
      "metadata": {
        "pycharm": {
          "metadata": false,
          "name": "#%%\n",
          "is_executing": false
        }
      }
    }
  ],
  "metadata": {
    "language_info": {
      "codemirror_mode": {
        "name": "ipython",
        "version": 2
      },
      "file_extension": ".py",
      "mimetype": "text/x-python",
      "name": "python",
      "nbconvert_exporter": "python",
      "pygments_lexer": "ipython2",
      "version": "2.7.6"
    },
    "kernelspec": {
      "name": "pycharm-7eda678e",
      "language": "python",
      "display_name": "PyCharm (comp3211)"
    },
    "stem_cell": {
      "cell_type": "raw",
      "source": "",
      "metadata": {
        "pycharm": {
          "metadata": false
        }
      }
    }
  },
  "nbformat": 4,
  "nbformat_minor": 0
}