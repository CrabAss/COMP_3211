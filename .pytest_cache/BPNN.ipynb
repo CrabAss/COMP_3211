{
  "cells": [
    {
      "cell_type": "markdown",
      "metadata": {
        "pycharm": {
          "metadata": false
        }
      },
      "source": [
        "### import torch , bumpy and matplot "
      ]
    },
    {
      "cell_type": "code",
      "execution_count": 1,
      "metadata": {
        "pycharm": {
          "metadata": false,
          "name": "#%%\n",
          "is_executing": false
        }
      },
      "outputs": [],
      "source": "import torch\nimport torch.nn as nn\nimport numpy as np\nimport matplotlib.pyplot as plt"
    },
    {
      "cell_type": "markdown",
      "metadata": {
        "pycharm": {
          "metadata": false,
          "name": "#%% md\n"
        }
      },
      "source": [
        "### check gpu"
      ]
    },
    {
      "cell_type": "code",
      "execution_count": 2,
      "metadata": {
        "pycharm": {
          "metadata": false,
          "name": "#%%\n",
          "is_executing": false
        }
      },
      "outputs": [],
      "source": [
        "device \u003d torch.device(\u0027cuda\u0027 if torch.cuda.is_available() else \u0027cpu\u0027)"
      ]
    },
    {
      "cell_type": "markdown",
      "metadata": {
        "pycharm": {
          "is_executing": false,
          "metadata": false,
          "name": "#%% md\n"
        }
      },
      "source": [
        "### import data"
      ]
    },
    {
      "cell_type": "code",
      "execution_count": 5,
      "metadata": {
        "pycharm": {
          "is_executing": false,
          "metadata": false,
          "name": "#%%\n"
        }
      },
      "outputs": [
        {
          "name": "stdout",
          "text": [
            "[[0. 0. 0. ... 0. 0. 0.]\n [0. 0. 0. ... 0. 0. 0.]\n [0. 0. 0. ... 0. 0. 0.]\n ...\n [0. 0. 0. ... 0. 0. 0.]\n [0. 0. 0. ... 0. 0. 0.]\n [0. 0. 0. ... 0. 0. 0.]]\n[1. 0. 1. 1. 1. 1. 1. 1. 0. 0. 1. 0. 1. 1. 1. 1. 0. 1. 0. 1. 1. 1. 0. 1.\n 1. 0. 0. 0. 1. 1. 0. 0. 1. 0. 1. 1. 1. 1. 0. 1. 0. 0. 1. 1. 0. 0. 0. 1.\n 1. 1. 1. 1. 0. 1. 1. 1. 1. 1. 1. 1. 0. 1. 1. 1. 0. 1. 1. 1. 1. 1. 1. 1.\n 1. 1. 1. 0. 1. 0. 1. 1. 1. 1. 1. 1. 1. 1. 0. 1. 0. 1. 1. 1. 0. 0. 1. 1.\n 1. 0. 1. 1. 1. 1. 0. 1. 1. 0. 0. 0. 0. 1. 0. 1. 1. 1. 1. 1. 1. 1. 0. 0.\n 0. 0. 1. 1. 1. 0. 0. 1. 1. 0. 0. 0. 1. 0. 0. 1. 1. 0. 0. 1. 1. 0. 0. 1.\n 1. 1. 1. 1. 1. 0. 1. 0. 0. 0. 1. 1. 1. 1. 1. 1. 1. 1. 1. 1. 0. 0. 1. 0.\n 1. 1. 0. 1. 1. 0. 1. 1. 1. 1. 0. 1. 0. 1. 0. 0. 1. 1. 0. 0. 1. 1. 1. 1.\n 1. 1. 1. 1. 0. 0. 0. 1. 1. 1. 0. 1. 1. 0. 1. 0. 1. 0. 1. 1. 1. 1. 0. 0.\n 1. 0. 1. 1. 0. 1. 0. 1. 1. 0. 1. 1. 1. 1. 1. 1. 1. 1. 0. 0. 1. 1. 1. 0.\n 1. 1. 1. 1. 1. 1. 0. 1. 1. 1. 0. 1. 1. 1. 1. 0. 0. 0. 1. 0. 0. 1. 0. 0.\n 1. 1. 1. 0. 1. 1. 0. 0. 1. 0. 1. 1. 1. 1. 1. 1. 0. 1. 0. 1. 0. 0. 1. 1.\n 1. 0. 1. 1. 1. 1. 0. 1. 1. 1. 1. 0. 0. 1. 1. 1. 1. 1. 0. 1. 1. 0. 0. 0.\n 1. 1. 0. 1. 1. 1. 1. 1. 1. 1. 1. 1. 0. 1. 1. 1. 0. 0. 1. 0. 0. 1. 1. 1.\n 1. 1. 1. 1. 0. 1. 0. 1. 1. 0. 1. 1. 1. 1. 1. 1. 0. 1. 0. 0. 1. 1. 1. 1.\n 0. 0. 1. 1. 1. 0. 0. 1. 0. 1. 0. 1. 1. 1. 1. 0. 1. 0. 1. 1. 1. 1. 0. 0.\n 1. 1. 1. 1. 0. 1. 1. 1. 1. 0. 1. 1. 1. 1. 0. 0. 0. 1. 1. 0. 1. 0. 1. 1.\n 1. 1. 1. 1. 0. 0. 1. 1. 0. 1. 1. 1. 1. 0. 0. 1. 1. 1. 0. 1. 1. 1. 1. 1.\n 0. 1. 1. 1. 1. 1. 0. 1. 0. 0. 1. 0. 1. 1. 1. 1. 1. 1. 1. 1. 0. 1. 1. 1.\n 1. 1. 1. 1. 1. 0. 1. 1. 1. 1. 1. 0. 0. 1. 1. 1. 1. 1. 1. 1. 0. 0. 0. 1.\n 1. 1. 0. 0. 0. 1. 0. 0. 1. 1. 1. 1. 0. 1. 1. 0. 1. 1. 1. 1.]\n"
          ],
          "output_type": "stream"
        }
      ],
      "source": "temp_x \u003d np.loadtxt(\"./qsort_qsort.py.csv\",dtype\u003dnp.float32, delimiter\u003d\",\")\ntemp_y \u003d np.loadtxt(\"qsort_result.txt\",dtype\u003dnp.float32, delimiter\u003d\",\")\nprint(temp_x)\nprint(temp_y)"
    },
    {
      "cell_type": "markdown",
      "metadata": {
        "pycharm": {
          "metadata": false
        }
      },
      "source": [
        "### process data \n",
        "[\u003e0 \u003d\u003e 1, 0 \u003d\u003e 0]  \n"
      ]
    },
    {
      "cell_type": "code",
      "execution_count": 6,
      "metadata": {
        "pycharm": {
          "metadata": false,
          "name": "#%%\n",
          "is_executing": false
        }
      },
      "outputs": [],
      "source": "x_train \u003d np.float32(temp_x\u003e0)\ny_train \u003d temp_y     "
    },
    {
      "cell_type": "markdown",
      "metadata": {
        "pycharm": {
          "metadata": false
        }
      },
      "source": [
        "### set size and batch"
      ]
    },
    {
      "cell_type": "code",
      "execution_count": 11,
      "metadata": {
        "pycharm": {
          "metadata": false,
          "name": "#%%\n",
          "is_executing": false
        }
      },
      "outputs": [
        {
          "name": "stderr",
          "text": [
            "/home/hansama/anaconda3/lib/python3.7/site-packages/ipykernel_launcher.py:3: UserWarning: To copy construct from a tensor, it is recommended to use sourceTensor.clone().detach() or sourceTensor.clone().detach().requires_grad_(True), rather than torch.tensor(sourceTensor).\n  This is separate from the ipykernel package so we can avoid doing imports until\n/home/hansama/anaconda3/lib/python3.7/site-packages/ipykernel_launcher.py:4: UserWarning: To copy construct from a tensor, it is recommended to use sourceTensor.clone().detach() or sourceTensor.clone().detach().requires_grad_(True), rather than torch.tensor(sourceTensor).\n  after removing the cwd from sys.path.\n"
          ],
          "output_type": "stream"
        }
      ],
      "source": "n_in, n_h, n_out, batch_size \u003d len(x_train[0]), 3, 1, len(x_train)\n\nx_train \u003d torch.tensor(x_train).cuda()\ny_train \u003d torch.tensor(y_train).cuda()\n"
    },
    {
      "cell_type": "markdown",
      "metadata": {
        "pycharm": {
          "is_executing": false,
          "metadata": false,
          "name": "#%% md\n"
        }
      },
      "source": [
        "### design model,loss function and optimizer"
      ]
    },
    {
      "cell_type": "code",
      "execution_count": 12,
      "metadata": {
        "pycharm": {
          "is_executing": false,
          "metadata": false,
          "name": "#%%\n"
        }
      },
      "outputs": [],
      "source": "model \u003d nn.Sequential(nn.Linear(n_in,n_h),\n                          nn.Sigmoid(),\n                          nn.Linear(n_h,n_out),\n                          nn.Sigmoid()).cuda()\n# loss\ncriterion \u003d torch.nn.MSELoss()\n# optimizer\noptimizer \u003d torch.optim.SGD(model.parameters(), lr\u003d0.01,weight_decay \u003d 1e-6)"
    },
    {
      "cell_type": "markdown",
      "source": "#### model",
      "metadata": {
        "pycharm": {
          "metadata": false,
          "name": "#%% md\n"
        }
      }
    },
    {
      "cell_type": "code",
      "execution_count": 14,
      "outputs": [
        {
          "data": {
            "text/plain": "Sequential(\n  (0): Linear(in_features\u003d35, out_features\u003d3, bias\u003dTrue)\n  (1): Sigmoid()\n  (2): Linear(in_features\u003d3, out_features\u003d1, bias\u003dTrue)\n  (3): Sigmoid()\n)"
          },
          "metadata": {},
          "output_type": "execute_result",
          "execution_count": 14
        }
      ],
      "source": "model",
      "metadata": {
        "pycharm": {
          "metadata": false,
          "name": "#%%\n",
          "is_executing": false
        }
      }
    },
    {
      "cell_type": "markdown",
      "source": "#### loss",
      "metadata": {
        "pycharm": {
          "metadata": false
        }
      }
    },
    {
      "cell_type": "code",
      "execution_count": 15,
      "outputs": [
        {
          "data": {
            "text/plain": "MSELoss()"
          },
          "metadata": {},
          "output_type": "execute_result",
          "execution_count": 15
        }
      ],
      "source": "criterion",
      "metadata": {
        "pycharm": {
          "metadata": false,
          "name": "#%%\n",
          "is_executing": false
        }
      }
    },
    {
      "cell_type": "markdown",
      "source": "#### optimizer",
      "metadata": {
        "pycharm": {
          "metadata": false
        }
      }
    },
    {
      "cell_type": "code",
      "execution_count": 16,
      "outputs": [
        {
          "data": {
            "text/plain": "SGD (\nParameter Group 0\n    dampening: 0\n    lr: 0.01\n    momentum: 0\n    nesterov: False\n    weight_decay: 1e-06\n)"
          },
          "metadata": {},
          "output_type": "execute_result",
          "execution_count": 16
        }
      ],
      "source": "optimizer\n",
      "metadata": {
        "pycharm": {
          "metadata": false,
          "name": "#%%\n",
          "is_executing": false
        }
      }
    },
    {
      "cell_type": "markdown",
      "metadata": {
        "pycharm": {
          "metadata": false
        }
      },
      "source": "### save loss for draw plot\n"
    },
    {
      "cell_type": "code",
      "execution_count": 17,
      "metadata": {
        "pycharm": {
          "is_executing": false,
          "metadata": false,
          "name": "#%%\n"
        }
      },
      "outputs": [],
      "source": [
        "loss_list \u003d[]"
      ]
    },
    {
      "cell_type": "markdown",
      "metadata": {
        "pycharm": {
          "metadata": false,
          "name": "#%% md\n"
        }
      },
      "source": [
        "### train\n",
        "\n"
      ]
    },
    {
      "cell_type": "code",
      "execution_count": 18,
      "metadata": {
        "pycharm": {
          "is_executing": false,
          "metadata": false,
          "name": "#%%\n"
        }
      },
      "outputs": [
        {
          "name": "stdout",
          "text": [
            "i:  0  loss:  0.23450522124767303\ni:  100  loss:  0.22744731605052948\ni:  200  loss:  0.22353483736515045\n",
            "i:  300  loss:  0.22127293050289154\ni:  400  loss:  0.21991997957229614\ni:  500  loss:  0.21908873319625854\n",
            "i:  600  loss:  0.2185671627521515\ni:  700  loss:  0.21823443472385406\ni:  800  loss:  0.21801945567131042\n",
            "i:  900  loss:  0.2178790271282196\ni:  1000  loss:  0.21778661012649536\n",
            "i:  1100  loss:  0.21772527694702148\ni:  1200  loss:  0.21768444776535034\ni:  1300  loss:  0.21765708923339844\n",
            "i:  1400  loss:  0.21763871610164642\ni:  1500  loss:  0.21762633323669434\ni:  1600  loss:  0.2176179736852646\n",
            "i:  1700  loss:  0.21761228144168854\ni:  1800  loss:  0.2176084667444229\n",
            "i:  1900  loss:  0.2176058441400528\ni:  2000  loss:  0.21760407090187073\n",
            "i:  2100  loss:  0.21760287880897522\ni:  2200  loss:  0.21760202944278717\ni:  2300  loss:  0.21760153770446777\n",
            "i:  2400  loss:  0.21760112047195435\ni:  2500  loss:  0.21760082244873047\ni:  2600  loss:  0.21760070323944092\n",
            "i:  2700  loss:  0.21760056912899017\ni:  2800  loss:  0.2176004946231842\ni:  2900  loss:  0.21760039031505585\n"
          ],
          "output_type": "stream"
        }
      ],
      "source": "for i in range(3000):\n    # forward prapagation\n    y_pred \u003d model(x_train)\n\n    # loss\n    loss \u003d criterion(y_pred,y_train)\n    loss_list.append(float(loss))\n\n    #print(model.named_parameters())\n\n    optimizer.zero_grad()\n    loss.backward()\n    optimizer.step()\n\n    if i % 100 \u003d\u003d 0:\n        print(\u0027i: \u0027, i, \u0027 loss: \u0027, loss.item())\n        "
    },
    {
      "cell_type": "markdown",
      "source": "### model back to cpu\n",
      "metadata": {
        "pycharm": {
          "metadata": false
        }
      }
    },
    {
      "cell_type": "code",
      "execution_count": 19,
      "outputs": [],
      "source": "x_train \u003d x_train.cpu()\nmodel \u003d model.cpu()",
      "metadata": {
        "pycharm": {
          "metadata": false,
          "name": "#%%\n",
          "is_executing": false
        }
      }
    },
    {
      "cell_type": "markdown",
      "metadata": {
        "pycharm": {
          "metadata": false
        }
      },
      "source": "### print loss result\n"
    },
    {
      "cell_type": "code",
      "execution_count": 20,
      "metadata": {
        "pycharm": {
          "is_executing": false,
          "metadata": false,
          "name": "#%%\n"
        }
      },
      "outputs": [
        {
          "data": {
            "text/plain": "\u003cFigure size 432x288 with 1 Axes\u003e",
            "image/png": "[encoded data removed]"
          },
          "metadata": {
            "needs_background": "light"
          },
          "output_type": "display_data"
        }
      ],
      "source": [
        "fig \u003d plt.figure()\n",
        "ax1 \u003d fig.add_subplot(111)\n",
        "plt.xlabel(\u0027step\u0027)\n",
        "plt.ylabel(\u0027loss\u0027)\n",
        "plt.plot([i for i in range(3000)], loss_list, c\u003d\u0027r\u0027)\n",
        "plt.show()"
      ]
    },
    {
      "cell_type": "markdown",
      "metadata": {
        "pycharm": {
          "metadata": false
        }
      },
      "source": [
        "### get fail line set"
      ]
    },
    {
      "cell_type": "code",
      "execution_count": 21,
      "metadata": {
        "pycharm": {
          "metadata": false,
          "name": "#%%\n",
          "is_executing": false
        }
      },
      "outputs": [
        {
          "data": {
            "text/plain": "tensor([0., 0., 0., 1., 1., 1., 1., 1., 1., 1., 0., 0., 1., 1., 1., 1., 1., 1.,\n        1., 0., 0., 1., 0., 0., 0., 1., 1., 0., 1., 1., 0., 0., 0., 0., 0.],\n       dtype\u003dtorch.float64)"
          },
          "metadata": {},
          "output_type": "execute_result",
          "execution_count": 21
        }
      ],
      "source": [
        "s_f \u003d [1]*n_in\n",
        "for i in range(batch_size):\n",
        "    if(y_train[i]\u003d\u003d1):\n",
        "        s_f \u003d np.multiply(s_f,x_train[i])\n",
        "s_f"
      ]
    },
    {
      "cell_type": "markdown",
      "metadata": {
        "pycharm": {
          "metadata": false
        }
      },
      "source": [
        "### test fail line"
      ]
    },
    {
      "cell_type": "code",
      "execution_count": 23,
      "metadata": {
        "pycharm": {
          "is_executing": false,
          "metadata": false,
          "name": "#%%\n"
        }
      },
      "outputs": [
        {
          "data": {
            "text/plain": "[14, 6, 4, 7, 10, 9, 26, 16, 27, 17, 8, 22, 29, 5, 13, 19, 18, 15, 30]"
          },
          "metadata": {},
          "output_type": "execute_result",
          "execution_count": 23
        }
      ],
      "source": "model.eval()\nresult \u003d []\nfor i in range(n_in):\n    if(s_f[i]\u003d\u003d1):\n        test \u003d torch.tensor(np.float32([0]*n_in))\n        test[i] \u003d 1\n        result.append((i+1,float(model(test)[0])))\n\nsorted_result \u003d sorted(result, key\u003dlambda x: x[1], reverse\u003dTrue)\n[i[0] for i in sorted_result]"
    },
    {
      "cell_type": "code",
      "execution_count": null,
      "metadata": {
        "pycharm": {}
      },
      "outputs": [],
      "source": []
    }
  ],
  "metadata": {
    "kernelspec": {
      "display_name": "PyCharm (comp3211)",
      "language": "python",
      "name": "pycharm-7eda678e"
    },
    "language_info": {
      "codemirror_mode": {
        "name": "ipython",
        "version": 3
      },
      "file_extension": ".py",
      "mimetype": "text/x-python",
      "name": "python",
      "nbconvert_exporter": "python",
      "pygments_lexer": "ipython3",
      "version": "3.7.2"
    },
    "stem_cell": {
      "cell_type": "raw",
      "metadata": {
        "pycharm": {
          "metadata": false
        }
      },
      "source": ""
    }
  },
  "nbformat": 4,
  "nbformat_minor": 1
}